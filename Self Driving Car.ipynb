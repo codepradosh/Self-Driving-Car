{
 "cells": [
  {
   "cell_type": "markdown",
   "metadata": {},
   "source": [
    "<img src='./images/self-driving-car.jpg'>"
   ]
  },
  {
   "cell_type": "markdown",
   "metadata": {},
   "source": [
    "<center> <h1> Self Driving Car </h1> </center>\n",
    "\n",
    "<br/>\n",
    "<br/>"
   ]
  },
  {
   "cell_type": "markdown",
   "metadata": {},
   "source": [
    "## Information & Resources"
   ]
  },
  {
   "cell_type": "markdown",
   "metadata": {
    "colab": {
     "autoexec": {
      "startup": false,
      "wait_interval": 0
     }
    },
    "colab_type": "code",
    "collapsed": true,
    "id": "XHFnthirwlfn"
   },
   "source": [
    "Credits: https://github.com/SullyChen/Autopilot-TensorFlow\n",
    "Research paper: End to End Learning for Self-Driving Cars by Nvidia. [https://arxiv.org/pdf/1604.07316.pdf]\n",
    "\n",
    "NVidia dataset: 72 hrs of video => 72*60*60*30 = 7,776,000 images\n",
    "Nvidia blog: https://devblogs.nvidia.com/deep-learning-self-driving-cars/\n",
    "\n",
    "\n",
    "Our Dataset: https://github.com/SullyChen/Autopilot-TensorFlow [https://drive.google.com/file/d/0B-KJCaaF7elleG1RbzVPZWV4Tlk/view]\n",
    "Size: 25 minutes = 25*60*30 = 45,000 images ~ 2.3 GB\n",
    "\n",
    "\n",
    "If you want to try on a slightly large dataset: 70 minutes of data ~ 223GB\n",
    "Refer: https://medium.com/udacity/open-sourcing-223gb-of-mountain-view-driving-data-f6b5593fbfa5\n",
    "Format: Image, latitude, longitude, gear, brake, throttle, steering angles and speed\n",
    "\n",
    "\n",
    "\n",
    "Additional Installations:\n",
    "pip3 install h5py\n",
    "\n",
    "\n",
    "AWS: https://aws.amazon.com/blogs/machine-learning/get-started-with-deep-learning-using-the-aws-deep-learning-ami/\n",
    "\n",
    "Youtube:https://www.youtube.com/watch?v=qhUvQiKec2U\n",
    "Further reading and extensions: https://medium.com/udacity/teaching-a-machine-to-steer-a-car-d73217f2492c\n",
    "More data: https://medium.com/udacity/open-sourcing-223gb-of-mountain-view-driving-data-f6b5593fbfa5\n",
    "\n",
    "<br/>\n",
    "<br/>"
   ]
  },
  {
   "cell_type": "code",
   "execution_count": 1,
   "metadata": {},
   "outputs": [],
   "source": [
    "from __future__ import division\n",
    "\n",
    "import warnings\n",
    "warnings.filterwarnings(\"ignore\", category=DeprecationWarning)\n",
    "\n",
    "import os\n",
    "import random\n",
    "import cv2\n",
    "import math\n",
    "import numpy as np\n",
    "import scipy\n",
    "import scipy.misc\n",
    "from scipy import pi\n",
    "from subprocess import call\n",
    "from datetime import datetime\n",
    "from itertools import islice\n",
    "import matplotlib.pyplot as plt \n",
    "import tensorflow as tf"
   ]
  },
  {
   "cell_type": "markdown",
   "metadata": {},
   "source": [
    "## Lets perform some EDA"
   ]
  },
  {
   "cell_type": "code",
   "execution_count": 2,
   "metadata": {},
   "outputs": [],
   "source": [
    "image_data = []\n",
    "angle_data = []\n",
    "\n",
    "# Get number of images\n",
    "num_images = 0\n",
    "\n",
    "# Number of images for training\n",
    "num_train_images = 0\n",
    "\n",
    "# Number of images for testing\n",
    "num_test_images = 0\n",
    "\n",
    "def load_dataset():\n",
    "    # Read data.txt\n",
    "    with open(\"data/data.txt\") as fp:\n",
    "        for line in fp:\n",
    "            image_data.append(\"data/\" + line.split()[0])\n",
    "\n",
    "            # the paper by Nvidia uses the inverse of the turning radius,\n",
    "            # but steering wheel angle is proportional to the inverse of turning radius\n",
    "            # so the steering wheel angle in radians is used as the output       \n",
    "            angle_data.append(float(line.split()[1]) * scipy.pi / 180)\n",
    "\n",
    "def split_dataset(train_split,test_split):\n",
    "    images_to_train = image_data[:int(len(image_data) * train_split)]    \n",
    "    angles_to_train = angle_data[:int(len(image_data) * train_split)]\n",
    "\n",
    "    images_to_test = image_data[-int(len(image_data) * test_split):]\n",
    "    angles_to_test = angle_data[-int(len(image_data) * test_split):]\n",
    "    \n",
    "    return images_to_train,angles_to_train,images_to_test,angles_to_test   \n",
    "    "
   ]
  },
  {
   "cell_type": "code",
   "execution_count": 3,
   "metadata": {},
   "outputs": [
    {
     "name": "stdout",
     "output_type": "stream",
     "text": [
      "Total number of images:  45406\n",
      "Total number of images for training:  36324\n",
      "Total number of images for testing:  9081\n"
     ]
    }
   ],
   "source": [
    "# Load dataset\n",
    "load_dataset()\n",
    "\n",
    "# Split dataset\n",
    "images_to_train,angles_to_train,images_to_test,angles_to_test = split_dataset(0.8,0.2)\n",
    "\n",
    "num_images = len(image_data)\n",
    "print(\"Total number of images: \",num_images)\n",
    "\n",
    "num_train_images = len(images_to_train)\n",
    "print(\"Total number of images for training: \",num_train_images)\n",
    "\n",
    "num_test_images = len(images_to_test)\n",
    "print(\"Total number of images for testing: \",num_test_images)"
   ]
  },
  {
   "cell_type": "code",
   "execution_count": 4,
   "metadata": {},
   "outputs": [
    {
     "data": {
      "image/png": "[encoded data removed]",
      "text/plain": [
       "<Figure size 864x576 with 1 Axes>"
      ]
     },
     "metadata": {
      "needs_background": "light"
     },
     "output_type": "display_data"
    }
   ],
   "source": [
    "# PDF of train and test angle values. \n",
    "plt.figure(figsize=(12,8))\n",
    "plt.hist(angles_to_train, bins=50, density=1, color='green', histtype ='step',label=\"Train Angles\")\n",
    "plt.hist(angles_to_test, bins=50, density=1, color='red', histtype ='step',label=\"Test Angles\")\n",
    "plt.legend()\n",
    "plt.show()"
   ]
  },
  {
   "cell_type": "markdown",
   "metadata": {},
   "source": [
    "<br/>\n",
    "<br/>\n",
    "\n",
    "By observing above histogram plot, we can apply the simple Base Model"
   ]
  },
  {
   "cell_type": "markdown",
   "metadata": {},
   "source": [
    "### Model 1: Base line Model: y_test_pred = mean(y_train_i) "
   ]
  },
  {
   "cell_type": "code",
   "execution_count": 5,
   "metadata": {},
   "outputs": [
    {
     "name": "stdout",
     "output_type": "stream",
     "text": [
      "Test_MSE(MEAN):0.191142\n"
     ]
    }
   ],
   "source": [
    "#Model 1: Base line Model: y_test_pred = mean(y_train_i) \n",
    "train_mean_angle = np.mean(angles_to_train)\n",
    "\n",
    "print('Test_MSE(MEAN):%f' % np.mean(np.square(angles_to_test - train_mean_angle)))"
   ]
  },
  {
   "cell_type": "markdown",
   "metadata": {
    "collapsed": true
   },
   "source": [
    "<br/>\n",
    "<br/>\n",
    "<br/>"
   ]
  },
  {
   "cell_type": "markdown",
   "metadata": {},
   "source": [
    "## Create End to End Model\n",
    "Credits End to End Learning for Self-Driving Cars by Nvidia. [https://arxiv.org/pdf/1604.07316.pdf]"
   ]
  },
  {
   "cell_type": "markdown",
   "metadata": {},
   "source": [
    "#### Model 1 - Configuration Used:\n",
    "Train/Test Split: 80:20 <br/>\n",
    "Dropout : 0.80 <br/>\n",
    "AdamOptimezer Value: 1e-4 <br/>\n",
    "Activation Function: atan"
   ]
  },
  {
   "cell_type": "code",
   "execution_count": 6,
   "metadata": {},
   "outputs": [],
   "source": [
    "def weight_variable(shape):\n",
    "    initial = tf.truncated_normal(shape, stddev=0.1)\n",
    "    return tf.Variable(initial)\n",
    "\n",
    "def bias_variable(shape):\n",
    "    initial = tf.constant(0.1, shape=shape)\n",
    "    return tf.Variable(initial)\n",
    "\n",
    "def conv2d(x, W, stride):\n",
    "    return tf.nn.conv2d(x, W, strides=[1, stride, stride, 1], padding='VALID')"
   ]
  },
  {
   "cell_type": "code",
   "execution_count": 7,
   "metadata": {},
   "outputs": [],
   "source": [
    "true_image = tf.placeholder(tf.float32, shape=[None, 66, 200, 3],name=\"true_image\")\n",
    "true_angle = tf.placeholder(tf.float32, shape=[None, 1],name=\"true_angle\")\n",
    "\n",
    "x_image = true_image\n",
    "\n",
    "#first convolutional layer\n",
    "W_conv1 = weight_variable([5, 5, 3, 24])\n",
    "b_conv1 = bias_variable([24])\n",
    "\n",
    "h_conv1 = tf.nn.relu(conv2d(x_image, W_conv1, 2) + b_conv1)\n",
    "\n",
    "#second convolutional layer\n",
    "W_conv2 = weight_variable([5, 5, 24, 36])\n",
    "b_conv2 = bias_variable([36])\n",
    "\n",
    "h_conv2 = tf.nn.relu(conv2d(h_conv1, W_conv2, 2) + b_conv2)\n",
    "\n",
    "#third convolutional layer\n",
    "W_conv3 = weight_variable([5, 5, 36, 48])\n",
    "b_conv3 = bias_variable([48])\n",
    "\n",
    "h_conv3 = tf.nn.relu(conv2d(h_conv2, W_conv3, 2) + b_conv3)\n",
    "\n",
    "#fourth convolutional layer\n",
    "W_conv4 = weight_variable([3, 3, 48, 64])\n",
    "b_conv4 = bias_variable([64])\n",
    "\n",
    "h_conv4 = tf.nn.relu(conv2d(h_conv3, W_conv4, 1) + b_conv4)\n",
    "\n",
    "#fifth convolutional layer\n",
    "W_conv5 = weight_variable([3, 3, 64, 64])\n",
    "b_conv5 = bias_variable([64])\n",
    "\n",
    "h_conv5 = tf.nn.relu(conv2d(h_conv4, W_conv5, 1) + b_conv5)\n",
    "\n",
    "#FCL 1\n",
    "W_fc1 = weight_variable([1152, 1164])\n",
    "b_fc1 = bias_variable([1164])\n",
    "\n",
    "h_conv5_flat = tf.reshape(h_conv5, [-1, 1152])\n",
    "h_fc1 = tf.nn.relu(tf.matmul(h_conv5_flat, W_fc1) + b_fc1)\n",
    "\n",
    "keep_prob = tf.placeholder(tf.float32,name=\"keep_prob\")\n",
    "h_fc1_drop = tf.nn.dropout(h_fc1, keep_prob)\n",
    "\n",
    "#FCL 2\n",
    "W_fc2 = weight_variable([1164, 100])\n",
    "b_fc2 = bias_variable([100])\n",
    "\n",
    "h_fc2 = tf.nn.relu(tf.matmul(h_fc1_drop, W_fc2) + b_fc2)\n",
    "\n",
    "h_fc2_drop = tf.nn.dropout(h_fc2, keep_prob)\n",
    "\n",
    "#FCL 3\n",
    "W_fc3 = weight_variable([100, 50])\n",
    "b_fc3 = bias_variable([50])\n",
    "\n",
    "h_fc3 = tf.nn.relu(tf.matmul(h_fc2_drop, W_fc3) + b_fc3)\n",
    "\n",
    "h_fc3_drop = tf.nn.dropout(h_fc3, keep_prob)\n",
    "\n",
    "#FCL 3\n",
    "W_fc4 = weight_variable([50, 10])\n",
    "b_fc4 = bias_variable([10])\n",
    "\n",
    "h_fc4 = tf.nn.relu(tf.matmul(h_fc3_drop, W_fc4) + b_fc4)\n",
    "\n",
    "h_fc4_drop = tf.nn.dropout(h_fc4, keep_prob)\n",
    "\n",
    "#Output\n",
    "W_fc5 = weight_variable([10, 1])\n",
    "b_fc5 = bias_variable([1])\n",
    "\n",
    "# atan activation function with scaling\n",
    "predicted_angle = tf.multiply(tf.atan(tf.matmul(h_fc4_drop, W_fc5) + b_fc5), 2)\n",
    "predicted_angle = tf.identity(predicted_angle,name=\"predicted_angle\")"
   ]
  },
  {
   "cell_type": "markdown",
   "metadata": {},
   "source": [
    "#### Model 2 - Configuration Used:\n",
    "Train/Test Split: 70:30 <br/>\n",
    "Dropout : 0.50 <br/>\n",
    "AdamOptimezer Value: 1e-3 <br/>\n",
    "Activation Function: linear"
   ]
  },
  {
   "cell_type": "code",
   "execution_count": 7,
   "metadata": {},
   "outputs": [],
   "source": [
    "true_image_ln = tf.placeholder(tf.float32, shape=[None, 66, 200, 3],name=\"true_image_ln\")\n",
    "true_angle_ln = tf.placeholder(tf.float32, shape=[None, 1],name=\"true_angle_ln\")\n",
    "\n",
    "x_image_ln = true_image_ln\n",
    "\n",
    "#first convolutional layer\n",
    "W_conv1_ln = weight_variable([5, 5, 3, 24])\n",
    "b_conv1_ln = bias_variable([24])\n",
    "\n",
    "h_conv1_ln = tf.nn.relu(conv2d(x_image_ln, W_conv1_ln, 2) + b_conv1_ln)\n",
    "\n",
    "#second convolutional layer\n",
    "W_conv2_ln = weight_variable([5, 5, 24, 36])\n",
    "b_conv2_ln = bias_variable([36])\n",
    "\n",
    "h_conv2_ln = tf.nn.relu(conv2d(h_conv1_ln, W_conv2_ln, 2) + b_conv2_ln)\n",
    "\n",
    "#third convolutional layer\n",
    "W_conv3_ln = weight_variable([5, 5, 36, 48])\n",
    "b_conv3_ln = bias_variable([48])\n",
    "\n",
    "h_conv3_ln = tf.nn.relu(conv2d(h_conv2_ln, W_conv3_ln, 2) + b_conv3_ln)\n",
    "\n",
    "#fourth convolutional layer\n",
    "W_conv4_ln = weight_variable([3, 3, 48, 64])\n",
    "b_conv4_ln = bias_variable([64])\n",
    "\n",
    "h_conv4_ln = tf.nn.relu(conv2d(h_conv3_ln, W_conv4_ln, 1) + b_conv4_ln)\n",
    "\n",
    "#fifth convolutional layer\n",
    "W_conv5_ln = weight_variable([3, 3, 64, 64])\n",
    "b_conv5_ln = bias_variable([64])\n",
    "\n",
    "h_conv5_ln = tf.nn.relu(conv2d(h_conv4_ln, W_conv5_ln, 1) + b_conv5_ln)\n",
    "\n",
    "#FCL 1\n",
    "W_fc1_ln = weight_variable([1152, 1164])\n",
    "b_fc1_ln = bias_variable([1164])\n",
    "\n",
    "h_conv5_flat_ln = tf.reshape(h_conv5_ln, [-1, 1152])\n",
    "h_fc1_ln = tf.nn.relu(tf.matmul(h_conv5_flat_ln, W_fc1_ln) + b_fc1_ln)\n",
    "\n",
    "keep_prob_ln = tf.placeholder(tf.float32,name=\"keep_prob_ln\")\n",
    "h_fc1_drop_ln = tf.nn.dropout(h_fc1_ln, keep_prob_ln)\n",
    "\n",
    "#FCL 2\n",
    "W_fc2_ln = weight_variable([1164, 100])\n",
    "b_fc2_ln = bias_variable([100])\n",
    "\n",
    "h_fc2_ln = tf.nn.relu(tf.matmul(h_fc1_drop_ln, W_fc2_ln) + b_fc2_ln)\n",
    "\n",
    "h_fc2_drop_ln = tf.nn.dropout(h_fc2_ln, keep_prob_ln)\n",
    "\n",
    "#FCL 3\n",
    "W_fc3_ln = weight_variable([100, 50])\n",
    "b_fc3_ln = bias_variable([50])\n",
    "\n",
    "h_fc3_ln = tf.nn.relu(tf.matmul(h_fc2_drop_ln, W_fc3_ln) + b_fc3_ln)\n",
    "\n",
    "h_fc3_drop_ln = tf.nn.dropout(h_fc3_ln, keep_prob_ln)\n",
    "\n",
    "#FCL 3\n",
    "W_fc4_ln = weight_variable([50, 10])\n",
    "b_fc4_ln = bias_variable([10])\n",
    "\n",
    "h_fc4_ln = tf.nn.relu(tf.matmul(h_fc3_drop_ln, W_fc4_ln) + b_fc4_ln)\n",
    "\n",
    "h_fc4_drop_ln = tf.nn.dropout(h_fc4_ln, keep_prob_ln)\n",
    "\n",
    "#Output\n",
    "W_fc5_ln = weight_variable([10, 1])\n",
    "b_fc5_ln = bias_variable([1])\n",
    "\n",
    "# linear activation function\n",
    "predicted_angle_ln = tf.matmul(h_fc4_drop_ln, W_fc5_ln) + b_fc5_ln\n",
    "predicted_angle_ln = tf.identity(predicted_angle_ln,name=\"predicted_angle_ln\")"
   ]
  },
  {
   "cell_type": "markdown",
   "metadata": {},
   "source": [
    "<br/>\n",
    "\n",
    "\n",
    "## Model Training"
   ]
  },
  {
   "cell_type": "markdown",
   "metadata": {},
   "source": [
    "### Model 1 with 'atan' activation function"
   ]
  },
  {
   "cell_type": "code",
   "execution_count": 8,
   "metadata": {},
   "outputs": [],
   "source": [
    "#points to the end of the last batch\n",
    "train_batch_pointer = 0\n",
    "test_batch_pointer = 0\n",
    "\n",
    "# Utility Functions\n",
    "def LoadTrainBatch(batch_size):\n",
    "    global train_batch_pointer\n",
    "    x_out = []\n",
    "    y_out = []\n",
    "    for i in range(0, batch_size):\n",
    "        x_out.append(scipy.misc.imresize(scipy.misc.imread(images_to_train[(train_batch_pointer + i) % num_train_images])[-150:], \n",
    "                                         [66, 200]) / 255.0)\n",
    "        y_out.append([angles_to_train[(train_batch_pointer + i) % num_train_images]])\n",
    "    train_batch_pointer += batch_size\n",
    "    return x_out, y_out\n",
    "\n",
    "def LoadTestBatch(batch_size): \n",
    "    global test_batch_pointer\n",
    "    x_out = []\n",
    "    y_out = []\n",
    "    for i in range(0, batch_size):\n",
    "        x_out.append(scipy.misc.imresize(scipy.misc.imread(images_to_test[(test_batch_pointer + i) % num_test_images])[-150:], \n",
    "                                         [66, 200]) / 255.0)\n",
    "        y_out.append([angles_to_test[(test_batch_pointer + i) % num_test_images]])\n",
    "    test_batch_pointer += batch_size\n",
    "    return x_out, y_out"
   ]
  },
  {
   "cell_type": "code",
   "execution_count": 9,
   "metadata": {},
   "outputs": [],
   "source": [
    "LOGDIR = './models/atan/'\n",
    "\n",
    "# Lets start the tensorflow session\n",
    "sess = tf.InteractiveSession()"
   ]
  },
  {
   "cell_type": "code",
   "execution_count": 10,
   "metadata": {
    "scrolled": false
   },
   "outputs": [
    {
     "name": "stdout",
     "output_type": "stream",
     "text": [
      "Let the model learn itself...\n",
      "\n",
      "Epoch: 0, Step: 450, Loss: 4.36189\n",
      "Model saved in file: ./models/atan/model_atan.ckpt\n",
      "\n",
      "Epoch: 1, Step: 550, Loss: 3.74218\n",
      "Model saved in file: ./models/atan/model_atan.ckpt\n",
      "\n",
      "Epoch: 2, Step: 650, Loss: 2.72663\n",
      "Model saved in file: ./models/atan/model_atan.ckpt\n",
      "\n",
      "Epoch: 3, Step: 750, Loss: 2.4868\n",
      "Model saved in file: ./models/atan/model_atan.ckpt\n",
      "\n",
      "Epoch: 4, Step: 850, Loss: 2.03206\n",
      "Model saved in file: ./models/atan/model_atan.ckpt\n",
      "\n",
      "Epoch: 5, Step: 950, Loss: 1.91966\n",
      "Model saved in file: ./models/atan/model_atan.ckpt\n",
      "\n",
      "Epoch: 6, Step: 1050, Loss: 1.54203\n",
      "Model saved in file: ./models/atan/model_atan.ckpt\n",
      "\n",
      "Epoch: 7, Step: 1150, Loss: 1.42276\n",
      "Model saved in file: ./models/atan/model_atan.ckpt\n",
      "\n",
      "Epoch: 8, Step: 1250, Loss: 1.20319\n",
      "Model saved in file: ./models/atan/model_atan.ckpt\n",
      "\n",
      "Epoch: 9, Step: 1350, Loss: 1.03368\n",
      "Model saved in file: ./models/atan/model_atan.ckpt\n",
      "\n",
      "Epoch: 10, Step: 1450, Loss: 0.895972\n",
      "Model saved in file: ./models/atan/model_atan.ckpt\n",
      "\n",
      "Epoch: 11, Step: 1550, Loss: 0.870298\n",
      "Model saved in file: ./models/atan/model_atan.ckpt\n",
      "\n",
      "Epoch: 12, Step: 1650, Loss: 0.721526\n",
      "Model saved in file: ./models/atan/model_atan.ckpt\n",
      "\n",
      "Epoch: 13, Step: 1750, Loss: 1.05005\n",
      "Model saved in file: ./models/atan/model_atan.ckpt\n",
      "\n",
      "Epoch: 14, Step: 1850, Loss: 0.566407\n",
      "Model saved in file: ./models/atan/model_atan.ckpt\n",
      "\n",
      "Epoch: 15, Step: 1950, Loss: 0.581275\n",
      "Model saved in file: ./models/atan/model_atan.ckpt\n",
      "\n",
      "Epoch: 16, Step: 2050, Loss: 0.484599\n",
      "Model saved in file: ./models/atan/model_atan.ckpt\n",
      "\n",
      "Epoch: 17, Step: 2150, Loss: 0.513947\n",
      "Model saved in file: ./models/atan/model_atan.ckpt\n",
      "\n",
      "Epoch: 18, Step: 2250, Loss: 0.403349\n",
      "Model saved in file: ./models/atan/model_atan.ckpt\n",
      "\n",
      "Epoch: 19, Step: 2350, Loss: 0.375758\n",
      "Model saved in file: ./models/atan/model_atan.ckpt\n",
      "\n",
      "Epoch: 20, Step: 2450, Loss: 0.854309\n",
      "Model saved in file: ./models/atan/model_atan.ckpt\n",
      "\n",
      "Epoch: 21, Step: 2550, Loss: 0.337236\n",
      "Model saved in file: ./models/atan/model_atan.ckpt\n",
      "\n",
      "Epoch: 22, Step: 2650, Loss: 1.22638\n",
      "Model saved in file: ./models/atan/model_atan.ckpt\n",
      "\n",
      "Epoch: 23, Step: 2750, Loss: 0.322755\n",
      "Model saved in file: ./models/atan/model_atan.ckpt\n",
      "\n",
      "Epoch: 24, Step: 2850, Loss: 5.02715\n",
      "Model saved in file: ./models/atan/model_atan.ckpt\n",
      "\n",
      "Epoch: 25, Step: 2950, Loss: 0.296385\n",
      "Model saved in file: ./models/atan/model_atan.ckpt\n",
      "\n",
      "Epoch: 26, Step: 3050, Loss: 0.351221\n",
      "Model saved in file: ./models/atan/model_atan.ckpt\n",
      "\n",
      "Epoch: 27, Step: 3150, Loss: 0.335083\n",
      "Model saved in file: ./models/atan/model_atan.ckpt\n",
      "\n",
      "Epoch: 28, Step: 3250, Loss: 3.30626\n",
      "Model saved in file: ./models/atan/model_atan.ckpt\n",
      "\n",
      "Epoch: 29, Step: 3350, Loss: 0.26926\n",
      "Model saved in file: ./models/atan/model_atan.ckpt\n",
      "\n",
      "Run the command line:\n",
      "--> tensorboard --logdir=./logs \n",
      "Then open http://0.0.0.0:6006/ into your web browser\n",
      "\n",
      "Time taken to train the model:  4:16:20.736450\n"
     ]
    }
   ],
   "source": [
    "start = datetime.now()\n",
    "\n",
    "print(\"Let the model learn itself...\")\n",
    "print()\n",
    "\n",
    "L2NormConst = 0.001\n",
    "\n",
    "train_vars = tf.trainable_variables()\n",
    "\n",
    "loss = tf.reduce_mean(tf.square(tf.subtract(true_angle, predicted_angle))) + tf.add_n([tf.nn.l2_loss(v) for v in train_vars]) * L2NormConst\n",
    "train_step = tf.train.AdamOptimizer(1e-4).minimize(loss)\n",
    "\n",
    "sess.run(tf.global_variables_initializer())\n",
    "\n",
    "# create a summary to monitor cost tensor\n",
    "tf.summary.scalar(\"loss\", loss)\n",
    "\n",
    "# merge all summaries into a single op\n",
    "merged_summary_op =  tf.summary.merge_all()\n",
    "\n",
    "saver = tf.train.Saver()\n",
    "\n",
    "# op to write logs to Tensorboard\n",
    "logs_path = './logs'\n",
    "summary_writer = tf.summary.FileWriter(logs_path, graph=tf.get_default_graph())\n",
    "\n",
    "epochs = 30\n",
    "batch_size = 100\n",
    "\n",
    "# train over the dataset about 30 times\n",
    "previous_i = 0\n",
    "previous_loss = 0\n",
    "for epoch in range(epochs):\n",
    "    for i in range(int(num_images/batch_size)):        \n",
    "        xs, ys = LoadTrainBatch(batch_size)\n",
    "        train_step.run(feed_dict={true_image: xs, true_angle: ys, keep_prob: 0.80})\n",
    "        if i % 10 == 0:            \n",
    "            xs, ys = LoadTestBatch(batch_size)\n",
    "            loss_value = loss.eval(feed_dict={true_image:xs, true_angle: ys, keep_prob: 1.0})\n",
    "            previous_loss = loss_value\n",
    "            previous_i = i\n",
    "            # print(\"Epoch: %d, Step: %d, Loss: %g\" % (epoch, epoch * batch_size + i, loss_value))\n",
    "\n",
    "        # write logs at every iteration\n",
    "        summary = merged_summary_op.eval(feed_dict={true_image:xs, true_angle: ys, keep_prob: 1.0})\n",
    "        summary_writer.add_summary(summary, epoch * num_images/batch_size + i)\n",
    "\n",
    "        if i % batch_size == 0:\n",
    "            if not os.path.exists(LOGDIR):\n",
    "                os.makedirs(LOGDIR)            \n",
    "            checkpoint_path = os.path.join(LOGDIR, \"model_atan.ckpt\")\n",
    "            filename = saver.save(sess, checkpoint_path)    \n",
    "    print(\"Epoch: %d, Step: %d, Loss: %g\" % (epoch, epoch * batch_size + previous_i, previous_loss)) \n",
    "    print(\"Model saved in file: %s\" % filename)\n",
    "    print()\n",
    "\n",
    "print(\"Run the command line:\\n\" \\\n",
    "          \"--> tensorboard --logdir=./logs \" \\\n",
    "          \"\\nThen open http://0.0.0.0:6006/ into your web browser\")\n",
    "\n",
    "print(\"\\nTime taken to train the model: \",datetime.now() - start)"
   ]
  },
  {
   "cell_type": "code",
   "execution_count": 11,
   "metadata": {},
   "outputs": [],
   "source": [
    "# Lets close the tensorflow session\n",
    "sess.close()"
   ]
  },
  {
   "cell_type": "markdown",
   "metadata": {},
   "source": [
    "### Model 2  with 'linear' activation function"
   ]
  },
  {
   "cell_type": "code",
   "execution_count": 9,
   "metadata": {},
   "outputs": [
    {
     "name": "stdout",
     "output_type": "stream",
     "text": [
      "Total number of images:  45406\n",
      "Total number of images for training:  31784\n",
      "Total number of images for testing:  13621\n"
     ]
    }
   ],
   "source": [
    "# Split dataset\n",
    "images_to_train,angles_to_train,images_to_test,angles_to_test = split_dataset(0.7,0.3)\n",
    "\n",
    "num_images = len(image_data)\n",
    "print(\"Total number of images: \",num_images)\n",
    "\n",
    "num_train_images = len(images_to_train)\n",
    "print(\"Total number of images for training: \",num_train_images)\n",
    "\n",
    "num_test_images = len(images_to_test)\n",
    "print(\"Total number of images for testing: \",num_test_images)\n",
    "\n",
    "# Reset the pointers\n",
    "train_batch_pointer = 0\n",
    "test_batch_pointer = 0"
   ]
  },
  {
   "cell_type": "code",
   "execution_count": 10,
   "metadata": {},
   "outputs": [],
   "source": [
    "LOGDIR = './models/linear/'\n",
    "\n",
    "# Lets start the tensorflow session\n",
    "sess = tf.InteractiveSession()"
   ]
  },
  {
   "cell_type": "code",
   "execution_count": 11,
   "metadata": {
    "scrolled": false
   },
   "outputs": [
    {
     "name": "stdout",
     "output_type": "stream",
     "text": [
      "Let the model learn itself...\n",
      "\n",
      "Epoch: 0, Step: 450, Loss: 1.94443\n",
      "Model saved in file: ./models/linear/model_linear.ckpt\n",
      "\n",
      "Epoch: 1, Step: 550, Loss: 0.99808\n",
      "Model saved in file: ./models/linear/model_linear.ckpt\n",
      "\n",
      "Epoch: 2, Step: 650, Loss: 0.585102\n",
      "Model saved in file: ./models/linear/model_linear.ckpt\n",
      "\n",
      "Epoch: 3, Step: 750, Loss: 0.930208\n",
      "Model saved in file: ./models/linear/model_linear.ckpt\n",
      "\n",
      "Epoch: 4, Step: 850, Loss: 0.219191\n",
      "Model saved in file: ./models/linear/model_linear.ckpt\n",
      "\n",
      "Epoch: 5, Step: 950, Loss: 0.254192\n",
      "Model saved in file: ./models/linear/model_linear.ckpt\n",
      "\n",
      "Epoch: 6, Step: 1050, Loss: 0.157647\n",
      "Model saved in file: ./models/linear/model_linear.ckpt\n",
      "\n",
      "Epoch: 7, Step: 1150, Loss: 0.0659127\n",
      "Model saved in file: ./models/linear/model_linear.ckpt\n",
      "\n",
      "Epoch: 8, Step: 1250, Loss: 0.354662\n",
      "Model saved in file: ./models/linear/model_linear.ckpt\n",
      "\n",
      "Epoch: 9, Step: 1350, Loss: 0.0425358\n",
      "Model saved in file: ./models/linear/model_linear.ckpt\n",
      "\n",
      "Epoch: 10, Step: 1450, Loss: 0.0224573\n",
      "Model saved in file: ./models/linear/model_linear.ckpt\n",
      "\n",
      "Epoch: 11, Step: 1550, Loss: 0.190558\n",
      "Model saved in file: ./models/linear/model_linear.ckpt\n",
      "\n",
      "Epoch: 12, Step: 1650, Loss: 0.57656\n",
      "Model saved in file: ./models/linear/model_linear.ckpt\n",
      "\n",
      "Epoch: 13, Step: 1750, Loss: 0.00663601\n",
      "Model saved in file: ./models/linear/model_linear.ckpt\n",
      "\n",
      "Epoch: 14, Step: 1850, Loss: 0.22067\n",
      "Model saved in file: ./models/linear/model_linear.ckpt\n",
      "\n",
      "Epoch: 15, Step: 1950, Loss: 0.749397\n",
      "Model saved in file: ./models/linear/model_linear.ckpt\n",
      "\n",
      "Epoch: 16, Step: 2050, Loss: 0.00279485\n",
      "Model saved in file: ./models/linear/model_linear.ckpt\n",
      "\n",
      "Epoch: 17, Step: 2150, Loss: 0.0465793\n",
      "Model saved in file: ./models/linear/model_linear.ckpt\n",
      "\n",
      "Epoch: 18, Step: 2250, Loss: 0.0885663\n",
      "Model saved in file: ./models/linear/model_linear.ckpt\n",
      "\n",
      "Epoch: 19, Step: 2350, Loss: 0.007188\n",
      "Model saved in file: ./models/linear/model_linear.ckpt\n",
      "\n",
      "Epoch: 20, Step: 2450, Loss: 0.0490835\n",
      "Model saved in file: ./models/linear/model_linear.ckpt\n",
      "\n",
      "Epoch: 21, Step: 2550, Loss: 0.00709422\n",
      "Model saved in file: ./models/linear/model_linear.ckpt\n",
      "\n",
      "Epoch: 22, Step: 2650, Loss: 1.06157\n",
      "Model saved in file: ./models/linear/model_linear.ckpt\n",
      "\n",
      "Epoch: 23, Step: 2750, Loss: 0.700144\n",
      "Model saved in file: ./models/linear/model_linear.ckpt\n",
      "\n",
      "Epoch: 24, Step: 2850, Loss: 0.0139507\n",
      "Model saved in file: ./models/linear/model_linear.ckpt\n",
      "\n",
      "Epoch: 25, Step: 2950, Loss: 0.0396665\n",
      "Model saved in file: ./models/linear/model_linear.ckpt\n",
      "\n",
      "Epoch: 26, Step: 3050, Loss: 0.487887\n",
      "Model saved in file: ./models/linear/model_linear.ckpt\n",
      "\n",
      "Epoch: 27, Step: 3150, Loss: 0.0514921\n",
      "Model saved in file: ./models/linear/model_linear.ckpt\n",
      "\n",
      "Epoch: 28, Step: 3250, Loss: 0.0176178\n",
      "Model saved in file: ./models/linear/model_linear.ckpt\n",
      "\n",
      "Epoch: 29, Step: 3350, Loss: 0.442589\n",
      "Model saved in file: ./models/linear/model_linear.ckpt\n",
      "\n",
      "Run the command line:\n",
      "--> tensorboard --logdir=./logs \n",
      "Then open http://0.0.0.0:6006/ into your web browser\n",
      "\n",
      "Time taken to train the model:  4:07:49.696838\n"
     ]
    }
   ],
   "source": [
    "start = datetime.now()\n",
    "\n",
    "print(\"Let the model learn itself...\")\n",
    "print()\n",
    "\n",
    "L2NormConst = 0.001\n",
    "\n",
    "train_vars = tf.trainable_variables()\n",
    "\n",
    "loss = tf.reduce_mean(tf.square(tf.subtract(true_angle_ln, predicted_angle_ln))) + tf.add_n([tf.nn.l2_loss(v) for v in train_vars]) * L2NormConst\n",
    "train_step = tf.train.AdamOptimizer(1e-3).minimize(loss)\n",
    "\n",
    "sess.run(tf.global_variables_initializer())\n",
    "\n",
    "# create a summary to monitor cost tensor\n",
    "tf.summary.scalar(\"loss\", loss)\n",
    "\n",
    "# merge all summaries into a single op\n",
    "merged_summary_op =  tf.summary.merge_all()\n",
    "\n",
    "saver = tf.train.Saver()\n",
    "\n",
    "# op to write logs to Tensorboard\n",
    "logs_path = './logs'\n",
    "summary_writer = tf.summary.FileWriter(logs_path, graph=tf.get_default_graph())\n",
    "\n",
    "epochs = 30\n",
    "batch_size = 100\n",
    "\n",
    "# train over the dataset about 30 times\n",
    "previous_i = 0\n",
    "previous_loss = 0\n",
    "for epoch in range(epochs):\n",
    "    for i in range(int(num_images/batch_size)):        \n",
    "        xs, ys = LoadTrainBatch(batch_size)\n",
    "        train_step.run(feed_dict={true_image_ln: xs, true_angle_ln: ys, keep_prob_ln: 0.50})\n",
    "        if i % 10 == 0:            \n",
    "            xs, ys = LoadTestBatch(batch_size)\n",
    "            loss_value = loss.eval(feed_dict={true_image_ln:xs, true_angle_ln: ys, keep_prob_ln: 1.0})\n",
    "            previous_loss = loss_value\n",
    "            previous_i = i\n",
    "            # print(\"Epoch: %d, Step: %d, Loss: %g\" % (epoch, epoch * batch_size + i, loss_value))\n",
    "\n",
    "        # write logs at every iteration\n",
    "        summary = merged_summary_op.eval(feed_dict={true_image_ln:xs, true_angle_ln: ys, keep_prob_ln: 1.0})\n",
    "        summary_writer.add_summary(summary, epoch * num_images/batch_size + i)\n",
    "\n",
    "        if i % batch_size == 0:\n",
    "            if not os.path.exists(LOGDIR):\n",
    "                os.makedirs(LOGDIR)            \n",
    "            checkpoint_path = os.path.join(LOGDIR, \"model_linear.ckpt\")\n",
    "            filename = saver.save(sess, checkpoint_path)    \n",
    "    print(\"Epoch: %d, Step: %d, Loss: %g\" % (epoch, epoch * batch_size + previous_i, previous_loss)) \n",
    "    print(\"Model saved in file: %s\" % filename)\n",
    "    print()\n",
    "\n",
    "print(\"Run the command line:\\n\" \\\n",
    "          \"--> tensorboard --logdir=./logs \" \\\n",
    "          \"\\nThen open http://0.0.0.0:6006/ into your web browser\")\n",
    "\n",
    "print(\"\\nTime taken to train the model: \",datetime.now() - start)"
   ]
  },
  {
   "cell_type": "code",
   "execution_count": 12,
   "metadata": {},
   "outputs": [],
   "source": [
    "# Lets close the tensorflow session\n",
    "sess.close()"
   ]
  },
  {
   "cell_type": "markdown",
   "metadata": {},
   "source": [
    "<br/>\n",
    "<br/>\n",
    "\n",
    "## Model Testing"
   ]
  },
  {
   "cell_type": "markdown",
   "metadata": {},
   "source": [
    "Note: \n",
    "1. To run model 1, open command prompt or terminal and type 'pyhton3 run_atan.py'\n",
    "2. To run model 2, open command prompt or terminal and type 'pyhton3 run_linear.py'"
   ]
  },
  {
   "cell_type": "markdown",
   "metadata": {},
   "source": [
    "<h2> Conclusion </h2>"
   ]
  },
  {
   "cell_type": "markdown",
   "metadata": {},
   "source": [
    "#### Model 1 peforms descently with almost correct steering angles, whereas Model 2 does not perform well."
   ]
  },
  {
   "cell_type": "markdown",
   "metadata": {},
   "source": [
    "#### Creating perfect self driving car model is very hard\n",
    "#### But still we have managed to develope simple/minimilistic model, which predicts the steering wheel angle."
   ]
  }
 ],
 "metadata": {
  "accelerator": "GPU",
  "colab": {
   "collapsed_sections": [],
   "default_view": {},
   "name": "Self_driving_car.ipynb",
   "provenance": [],
   "version": "0.3.2",
   "views": {}
  },
  "kernelspec": {
   "display_name": "Python 3",
   "language": "python",
   "name": "python3"
  },
  "language_info": {
   "codemirror_mode": {
    "name": "ipython",
    "version": 3
   },
   "file_extension": ".py",
   "mimetype": "text/x-python",
   "name": "python",
   "nbconvert_exporter": "python",
   "pygments_lexer": "ipython3",
   "version": "3.6.6"
  }
 },
 "nbformat": 4,
 "nbformat_minor": 1
}
